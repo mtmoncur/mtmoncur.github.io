{
 "cells": [
  {
   "cell_type": "raw",
   "metadata": {},
   "source": [
    "---\n",
    "title: \"How to effectively log CSV data with Python\"\n",
    "date: \"2018-02-13 14:37:15\"\n",
    "excerpt: \"How can we leverage Python's built-in `logging` module to dump incoming data streams to a CSV file?\"\n",
    "header:\n",
    "  teaser: assets/img/stock-photos/nick-hillier-339049.png\n",
    "  overlay_image: assets/img/stock-photos/nick-hillier-339049.png\n",
    "  overlay_filter: 0.1\n",
    "categories:\n",
    "- software\n",
    "tags:\n",
    "- python\n",
    "- data\n",
    "---\n"
   ]
  },
  {
   "cell_type": "markdown",
   "metadata": {},
   "source": [
    "## CSV Format\n",
    "Comma-separated values (CSV) data is one of the most basic and simple forms of plain-text data storage. Each line of the file is a data sample. Each sample consists of one or more fields, separated by commas. "
   ]
  },
  {
   "cell_type": "markdown",
   "metadata": {},
   "source": [
    "### Example Data"
   ]
  },
  {
   "cell_type": "code",
   "execution_count": 1,
   "metadata": {},
   "outputs": [],
   "source": [
    "import numpy as np\n",
    "\n",
    "x = np.random.randint(low=0, high=10, size=(10,5))\n",
    "np.savetxt('data.csv', x, delimiter=',', fmt='%g')"
   ]
  },
  {
   "cell_type": "code",
   "execution_count": 2,
   "metadata": {},
   "outputs": [
    {
     "name": "stdout",
     "output_type": "stream",
     "text": [
      "5,7,0,2,0\n",
      "5,7,3,0,8\n",
      "8,1,7,8,6\n",
      "7,7,2,7,0\n",
      "4,0,9,8,5\n",
      "5,3,9,4,7\n",
      "1,8,1,2,5\n",
      "4,7,7,2,5\n",
      "8,6,2,5,9\n",
      "7,8,0,9,3\n"
     ]
    }
   ],
   "source": [
    "!type data.csv"
   ]
  },
  {
   "cell_type": "markdown",
   "metadata": {},
   "source": [
    "Quick. Easy. Simple.\n",
    "\n",
    "However...\n",
    "\n",
    "Data is rarely stored as a simple array. More often than not it's found as a structured object (i.e., an instance of a data class). One of my favourite structured data representations is `Protocol Buffers` (aka `protobuf`). Besides their cross-language compatibility, they easily decompose into JSON representations and Python `dict` objects. "
   ]
  },
  {
   "cell_type": "markdown",
   "metadata": {},
   "source": [
    "## Sample Data\n",
    "In the context of my robotics research, I often have Python services handling data that I want to record and this data is often very well structured."
   ]
  },
  {
   "cell_type": "code",
   "execution_count": 3,
   "metadata": {},
   "outputs": [],
   "source": [
    "from datetime import datetime\n",
    "\n",
    "def generate_fake_robot_data():\n",
    "    num_joints = 6\n",
    "    data_sample = {\n",
    "        'timestamp':datetime.now().strftime('%Y%m%d%H%M%S%f'),\n",
    "        'joint_angles':np.deg2rad(np.random.randint(low=-180, high=180, size=(num_joints,))).tolist(),\n",
    "        'joint_torques':np.random.randint(low=-180, high=180, size=(num_joints,)).tolist(),\n",
    "        'status':'ok'\n",
    "    }\n",
    "    \n",
    "    return data_sample"
   ]
  },
  {
   "cell_type": "code",
   "execution_count": 4,
   "metadata": {},
   "outputs": [
    {
     "name": "stdout",
     "output_type": "stream",
     "text": [
      "{'timestamp': '20180213155503255017', 'joint_angles': [1.4835298641951802, 1.0821041362364843, 2.426007660272118, 2.4085543677521746, -1.1693705988362009, 0.3839724354387525], 'joint_torques': [80, 63, 12, -163, -13, 137], 'status': 'ok'}\n"
     ]
    }
   ],
   "source": [
    "print(generate_fake_robot_data())"
   ]
  },
  {
   "cell_type": "markdown",
   "metadata": {},
   "source": [
    "Some may say \"why not just dump the sample as a JSON file?\". "
   ]
  },
  {
   "cell_type": "code",
   "execution_count": 5,
   "metadata": {
    "scrolled": true
   },
   "outputs": [
    {
     "name": "stdout",
     "output_type": "stream",
     "text": [
      "{\n",
      "    \"joint_angles\": [\n",
      "        -1.5533430342749532,\n",
      "        1.3089969389957472,\n",
      "        0.06981317007977318,\n",
      "        -0.15707963267948966,\n",
      "        -1.6406094968746698,\n",
      "        -0.4886921905584123\n",
      "    ],\n",
      "    \"joint_torques\": [\n",
      "        -59,\n",
      "        -145,\n",
      "        -99,\n",
      "        -127,\n",
      "        -17,\n",
      "        131\n",
      "    ],\n",
      "    \"status\": \"ok\",\n",
      "    \"timestamp\": \"20180213155503277019\"\n",
      "}\n"
     ]
    }
   ],
   "source": [
    "import json\n",
    "\n",
    "data_json = json.dumps(generate_fake_robot_data(), indent=4, sort_keys=True)\n",
    "print(data_json)"
   ]
  },
  {
   "cell_type": "markdown",
   "metadata": {},
   "source": [
    "While JSON is a great format, there are some nice advantages to well structured, relational data, especially when analyzing time-series data. Would we want to record each data sample as a separate JSON file? What happens when we record at 1000Hz? \n",
    "\n",
    "Having a single CSV file per recording session keeps things organized."
   ]
  },
  {
   "cell_type": "markdown",
   "metadata": {},
   "source": [
    "## Python Logging\n",
    "Python comes with an awesome built-in `logging` module that can be customized for all sorts of purposes. There are two parts to CSV data logging. First, we need to set up a file-based logging with the Python logger. Second, we need to convert our data to CSV format."
   ]
  },
  {
   "cell_type": "markdown",
   "metadata": {},
   "source": [
    "### 1) File Logging\n",
    "[Setting up Python's logging is quite easy and well documented](https://docs.python.org/3/library/logging.html)."
   ]
  },
  {
   "cell_type": "code",
   "execution_count": 6,
   "metadata": {},
   "outputs": [],
   "source": [
    "import logging\n",
    "\n",
    "logger_name = 'csv_logger'\n",
    "\n",
    "# clear all logger handlers\n",
    "# this avoids a jupyter bug\n",
    "# where duplicate logs may show\n",
    "logging.getLogger(logger_name).handlers = []\n",
    "\n",
    "# get handler to logger\n",
    "logger = logging.getLogger(logger_name)\n",
    "logger.setLevel(logging.DEBUG)\n",
    "\n",
    "# define logging format\n",
    "# very simple, we just want the str message\n",
    "formatter = logging.Formatter(fmt='%(message)s')\n",
    "\n",
    "# define stdout handler\n",
    "stream_handler = logging.StreamHandler()\n",
    "stream_handler.setLevel(logging.DEBUG)\n",
    "stream_handler.setFormatter(formatter)\n",
    "logger.addHandler(stream_handler)\n",
    "\n",
    "# define file handler\n",
    "# i like to have unique filenames per recording session\n",
    "# e.g., timestamps\n",
    "fname = datetime.now().strftime('%Y%m%d%H%M%S')\n",
    "file_handler = logging.FileHandler(filename=f'{fname}.csv')\n",
    "file_handler.setLevel(logging.DEBUG)\n",
    "file_handler.setFormatter(formatter)\n",
    "logger.addHandler(file_handler)"
   ]
  },
  {
   "cell_type": "markdown",
   "metadata": {},
   "source": [
    "### 2) Data Conversion\n",
    "Since our logging formatter only takes a `str` as input, we need to convert our data from a `dict` to a structured CSV `str`."
   ]
  },
  {
   "cell_type": "code",
   "execution_count": 7,
   "metadata": {
    "collapsed": true
   },
   "outputs": [],
   "source": [
    "from typing import Iterable\n",
    "\n",
    "def dict_to_flat_dict(d):\n",
    "    \"\"\"\n",
    "    Flatten a dict.\n",
    "    \n",
    "    Certain dict keys may have iterables (i.e., arrays).\n",
    "    These values should be flatten and given unique keys.\n",
    "    \"\"\"\n",
    "    # init result      \n",
    "    flat_d = {}\n",
    "    \n",
    "    # iterate through input and flatten iterable values\n",
    "    # watch out for str values!    \n",
    "    for k,v in d.items():\n",
    "        if isinstance(v, Iterable) and not isinstance(v,str):\n",
    "            for i,e in enumerate(v):\n",
    "                flat_d[f'{k}_{i}'] = e\n",
    "        else:\n",
    "            flat_d[f'{k}'] = v\n",
    "    \n",
    "    return flat_d"
   ]
  },
  {
   "cell_type": "code",
   "execution_count": 8,
   "metadata": {
    "scrolled": true
   },
   "outputs": [
    {
     "name": "stdout",
     "output_type": "stream",
     "text": [
      "{\n",
      "    \"joint_angles_0\": -0.6457718232379019,\n",
      "    \"joint_angles_1\": 2.7401669256310974,\n",
      "    \"joint_angles_2\": 0.7330382858376184,\n",
      "    \"joint_angles_3\": -0.5759586531581288,\n",
      "    \"joint_angles_4\": 0.20943951023931956,\n",
      "    \"joint_angles_5\": -2.775073510670984,\n",
      "    \"joint_torques_0\": -118,\n",
      "    \"joint_torques_1\": -121,\n",
      "    \"joint_torques_2\": 72,\n",
      "    \"joint_torques_3\": 147,\n",
      "    \"joint_torques_4\": -132,\n",
      "    \"joint_torques_5\": 60,\n",
      "    \"status\": \"ok\",\n",
      "    \"timestamp\": \"20180213155503409026\"\n",
      "}\n"
     ]
    }
   ],
   "source": [
    "flat_data = dict_to_flat_dict(generate_fake_robot_data())\n",
    "data_json = json.dumps(flat_data, indent=4, sort_keys=True)\n",
    "print(data_json)"
   ]
  },
  {
   "cell_type": "markdown",
   "metadata": {},
   "source": [
    "Ah ha! Our data is now well structured and ready for CSV! \n",
    "\n",
    "Now just to convert it to a `str`:"
   ]
  },
  {
   "cell_type": "code",
   "execution_count": 9,
   "metadata": {
    "collapsed": true
   },
   "outputs": [],
   "source": [
    "def flat_dict_to_csv(flat_d):\n",
    "    return ','.join([str(v) for v in flat_d.values()])"
   ]
  },
  {
   "cell_type": "code",
   "execution_count": 10,
   "metadata": {
    "scrolled": false
   },
   "outputs": [
    {
     "name": "stdout",
     "output_type": "stream",
     "text": [
      "20180213155503409026,-0.6457718232379019,2.7401669256310974,0.7330382858376184,-0.5759586531581288,0.20943951023931956,-2.775073510670984,-118,-121,72,147,-132,60,ok\n"
     ]
    }
   ],
   "source": [
    "csv_data = flat_dict_to_csv(flat_data)\n",
    "print(csv_data)"
   ]
  },
  {
   "cell_type": "markdown",
   "metadata": {},
   "source": [
    "And there we have it! \n",
    "\n",
    "Let's make a quick utility function that combines the above steps:"
   ]
  },
  {
   "cell_type": "code",
   "execution_count": 11,
   "metadata": {
    "collapsed": true
   },
   "outputs": [],
   "source": [
    "def dict_to_csv(d):\n",
    "    return flat_dict_to_csv(dict_to_flat_dict(d))"
   ]
  },
  {
   "cell_type": "markdown",
   "metadata": {},
   "source": [
    "### Let's Log!"
   ]
  },
  {
   "cell_type": "code",
   "execution_count": 12,
   "metadata": {},
   "outputs": [
    {
     "name": "stderr",
     "output_type": "stream",
     "text": [
      "20180213155503573034,0.9424777960769379,1.361356816555577,0.0,2.827433388230814,-2.234021442552742,-0.5235987755982988,-23,-171,77,-139,40,-151,ok\n",
      "20180213155503576037,-1.5882496193148399,0.8377580409572782,-3.12413936106985,1.361356816555577,2.2689280275926285,-2.234021442552742,-112,140,-115,-11,-47,20,ok\n",
      "20180213155503578036,-2.3911010752322315,-1.413716694115407,-2.129301687433082,-0.7155849933176751,-1.3089969389957472,0.9250245035569946,64,168,-179,162,14,-106,ok\n",
      "20180213155503580039,2.792526803190927,-2.4085543677521746,2.6878070480712677,-2.8797932657906435,-1.3962634015954636,2.443460952792061,99,-110,5,-165,40,168,ok\n",
      "20180213155503582035,2.722713633111154,0.2792526803190927,0.9250245035569946,3.12413936106985,-0.9599310885968813,1.8500490071139892,142,-126,7,162,149,85,ok\n",
      "20180213155503584037,-1.2217304763960306,1.0995574287564276,-0.5934119456780721,-1.6406094968746698,2.949606435870417,-1.4835298641951802,177,150,178,-60,-177,11,ok\n",
      "20180213155503586037,-2.8099800957108707,-0.9948376736367679,1.0995574287564276,-2.0943951023931953,-2.8099800957108707,-2.111848394913139,55,-51,40,-106,65,-108,ok\n",
      "20180213155503588038,0.47123889803846897,-0.20943951023931956,2.059488517353309,-1.2217304763960306,-2.6878070480712677,2.5830872929516078,-141,140,14,32,12,-128,ok\n",
      "20180213155503590035,0.9948376736367679,-0.017453292519943295,1.5707963267948966,1.2217304763960306,-0.8203047484373349,2.670353755551324,170,65,47,54,152,-32,ok\n",
      "20180213155503591038,0.4014257279586958,-1.361356816555577,2.2863813201125716,-2.076941809873252,-2.9321531433504737,2.2863813201125716,-90,-177,-172,-16,-153,157,ok\n"
     ]
    }
   ],
   "source": [
    "for _ in range(10):\n",
    "    logger.debug(dict_to_csv(generate_fake_robot_data()))"
   ]
  }
 ],
 "metadata": {
  "kernelspec": {
   "display_name": "Python 3",
   "language": "python",
   "name": "python3"
  },
  "language_info": {
   "codemirror_mode": {
    "name": "ipython",
    "version": 3
   },
   "file_extension": ".py",
   "mimetype": "text/x-python",
   "name": "python",
   "nbconvert_exporter": "python",
   "pygments_lexer": "ipython3",
   "version": "3.6.1"
  }
 },
 "nbformat": 4,
 "nbformat_minor": 2
}
